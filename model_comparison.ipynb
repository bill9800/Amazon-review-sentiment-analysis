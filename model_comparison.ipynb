{
 "cells": [
  {
   "cell_type": "code",
   "execution_count": 1,
   "metadata": {
    "collapsed": true
   },
   "outputs": [],
   "source": [
    "import pandas as pd\n",
    "import numpy as np\n",
    "from sklearn.externals import joblib\n",
    "from sklearn.preprocessing import LabelEncoder\n",
    "from sklearn.metrics import accuracy_score\n",
    "import time\n",
    "from sklearn.metrics import accuracy_score\n",
    "from sklearn.metrics import precision_score,recall_score\n",
    "from sklearn.metrics import roc_curve\n",
    "from sklearn import metrics"
   ]
  },
  {
   "cell_type": "code",
   "execution_count": 2,
   "metadata": {
    "collapsed": true
   },
   "outputs": [],
   "source": [
    "## Preprocess\n",
    "df_raw_data = pd.read_csv('reviews.csv',sep='|',header=0)\n",
    "df_train = df_raw_data.iloc[df_raw_data.index %5 != 0]\n",
    "df_test = df_raw_data.iloc[df_raw_data.index %5 == 0]\n",
    "\n",
    "# preprocess X\n",
    "# word of bag\n",
    "word_bag = joblib.load('word_bag.pkl')\n",
    "\n",
    "X_test = df_test.loc[:,'text'].tolist()\n",
    "X_test = word_bag.transform(X_test)\n",
    "\n",
    "X_train = df_train.loc[:,'text'].tolist()\n",
    "X_train = word_bag.transform(X_train)\n",
    "\n",
    "# preprocess y\n",
    "y = df_test['label']\n",
    "lec = LabelEncoder()\n",
    "y_test = lec.fit_transform(y)\n",
    "\n",
    "y = df_train['label']\n",
    "lec = LabelEncoder()\n",
    "y_train = lec.fit_transform(y)"
   ]
  },
  {
   "cell_type": "code",
   "execution_count": 7,
   "metadata": {
    "collapsed": true
   },
   "outputs": [],
   "source": [
    "# get the feature (v2)\n",
    "from sklearn.feature_extraction.text import TfidfVectorizer\n",
    "\n",
    "## Preprocess\n",
    "df_raw_data = pd.read_csv('reviews.csv',sep='|',header=0)\n",
    "df_train = df_raw_data.iloc[df_raw_data.index %5 != 0]\n",
    "df_test = df_raw_data.iloc[df_raw_data.index %5 == 0]\n",
    "\n",
    "## Preprocess\n",
    "X_train = df_train.loc[:,'text'].tolist()\n",
    "X_test = df_test.loc[:,'text'].tolist()\n",
    "transformer = TfidfVectorizer()\n",
    "#ngram_range=(1, 3)\n",
    "X_train = transformer.fit_transform(X_train)\n",
    "feature_tfidf_name = transformer.get_feature_names()\n",
    "X_test = transformer.transform(X_test)\n",
    "\n",
    "# preprocess y\n",
    "y = df_test['label']\n",
    "lec = LabelEncoder()\n",
    "y_test = lec.fit_transform(y)\n",
    "\n",
    "y = df_train['label']\n",
    "lec = LabelEncoder()\n",
    "y_train = lec.fit_transform(y)"
   ]
  },
  {
   "cell_type": "code",
   "execution_count": 8,
   "metadata": {},
   "outputs": [
    {
     "data": {
      "text/plain": [
       "['tfidf_features.pkl']"
      ]
     },
     "execution_count": 8,
     "metadata": {},
     "output_type": "execute_result"
    }
   ],
   "source": [
    "joblib.dump(feature_tfidf_name,'tfidf_features.pkl')"
   ]
  },
  {
   "cell_type": "code",
   "execution_count": null,
   "metadata": {
    "collapsed": true
   },
   "outputs": [],
   "source": [
    "joblib.dump(transformer,'final_model/Tfidf_n_3.pkl')"
   ]
  },
  {
   "cell_type": "markdown",
   "metadata": {},
   "source": [
    "## Decision Tree"
   ]
  },
  {
   "cell_type": "code",
   "execution_count": 3,
   "metadata": {
    "collapsed": true
   },
   "outputs": [],
   "source": [
    "from sklearn.tree import DecisionTreeClassifier"
   ]
  },
  {
   "cell_type": "code",
   "execution_count": 11,
   "metadata": {},
   "outputs": [
    {
     "name": "stdout",
     "output_type": "stream",
     "text": [
      "training time: 841.031721830368 s\n"
     ]
    }
   ],
   "source": [
    "tic = time.time()\n",
    "clf = DecisionTreeClassifier(criterion='entropy',max_depth=50)\n",
    "clf.fit(X_train,y_train)\n",
    "tac = time.time()\n",
    "print('training time:',tac-tic,'s')"
   ]
  },
  {
   "cell_type": "code",
   "execution_count": 15,
   "metadata": {},
   "outputs": [
    {
     "data": {
      "text/plain": [
       "['final_model/decision_tree.pkl']"
      ]
     },
     "execution_count": 15,
     "metadata": {},
     "output_type": "execute_result"
    }
   ],
   "source": [
    "joblib.dump(clf,'final_model/decision_tree.pkl')"
   ]
  },
  {
   "cell_type": "code",
   "execution_count": 12,
   "metadata": {
    "collapsed": true
   },
   "outputs": [],
   "source": [
    "# accurarcy\n",
    "y_pred = clf.predict(X_train)\n",
    "DT_train_ac = accuracy_score(y_train,y_pred)\n",
    "y_pred = clf.predict(X_test)\n",
    "DT_test_ac = accuracy_score(y_test,y_pred)"
   ]
  },
  {
   "cell_type": "code",
   "execution_count": 33,
   "metadata": {},
   "outputs": [
    {
     "name": "stdout",
     "output_type": "stream",
     "text": [
      "training accuracy: 93.4177420918 %\n",
      "testing accuracy: 76.157673651 %\n"
     ]
    }
   ],
   "source": [
    "print('training accuracy:',DT_train_ac*100,'%')\n",
    "print('testing accuracy:',DT_test_ac*100,'%')"
   ]
  },
  {
   "cell_type": "code",
   "execution_count": 13,
   "metadata": {},
   "outputs": [
    {
     "name": "stdout",
     "output_type": "stream",
     "text": [
      "precision:  0.756514678019  recall:  0.770140280561  f1:  0.763266674115\n"
     ]
    }
   ],
   "source": [
    "# precision and recall\n",
    "DT_p_score = precision_score(y_test,y_pred)\n",
    "DT_r_score = recall_score(y_test,y_pred)\n",
    "DT_f1_score = 2*(DT_p_score*DT_r_score)/(DT_p_score+DT_r_score)\n",
    "print(\"precision: \",DT_p_score,\" recall: \",DT_r_score,\" f1: \",DT_f1_score)"
   ]
  },
  {
   "cell_type": "code",
   "execution_count": 14,
   "metadata": {},
   "outputs": [
    {
     "name": "stdout",
     "output_type": "stream",
     "text": [
      "[ 0.          0.24695518  1.        ] [ 0.          0.77014028  1.        ] [2 1 0]\n"
     ]
    }
   ],
   "source": [
    "# ROC\n",
    "DT_fpr,DT_tpr, DT_thresholds = roc_curve(y_test,y_pred)\n",
    "print(DT_fpr,DT_tpr, DT_thresholds)"
   ]
  },
  {
   "cell_type": "markdown",
   "metadata": {},
   "source": [
    "## NN model"
   ]
  },
  {
   "cell_type": "code",
   "execution_count": 7,
   "metadata": {
    "collapsed": true
   },
   "outputs": [],
   "source": [
    "from sklearn.neural_network import MLPClassifier"
   ]
  },
  {
   "cell_type": "code",
   "execution_count": 8,
   "metadata": {},
   "outputs": [
    {
     "name": "stdout",
     "output_type": "stream",
     "text": [
      "training time: 1177.0293114185333 s\n"
     ]
    }
   ],
   "source": [
    "tic = time.time()\n",
    "clf = MLPClassifier(hidden_layer_sizes = (10,10),activation='logistic',max_iter=200,\n",
    "                    learning_rate_init = 0.01,learning_rate='invscaling',\n",
    "                    solver='adam',early_stopping=True,random_state=42)\n",
    "clf.fit(X_train,y_train)\n",
    "tac = time.time()\n",
    "print('training time:',tac-tic,'s')"
   ]
  },
  {
   "cell_type": "code",
   "execution_count": 14,
   "metadata": {},
   "outputs": [
    {
     "data": {
      "text/plain": [
       "['final_model/nn_model.pkl']"
      ]
     },
     "execution_count": 14,
     "metadata": {},
     "output_type": "execute_result"
    }
   ],
   "source": [
    "joblib.dump(clf,'final_model/nn_model.pkl')"
   ]
  },
  {
   "cell_type": "code",
   "execution_count": 11,
   "metadata": {},
   "outputs": [
    {
     "name": "stdout",
     "output_type": "stream",
     "text": [
      "training accuracy: 93.1561395339 %\n",
      "testing accuracy: 90.1235185278 %\n"
     ]
    }
   ],
   "source": [
    "# accurarcy\n",
    "y_pred = clf.predict(X_train)\n",
    "NN_train_ac = accuracy_score(y_train,y_pred)\n",
    "y_pred = clf.predict(X_test)\n",
    "NN_test_ac = accuracy_score(y_test,y_pred)\n",
    "print('training accuracy:',NN_train_ac*100,'%')\n",
    "print('testing accuracy:',NN_test_ac*100,'%')"
   ]
  },
  {
   "cell_type": "code",
   "execution_count": 12,
   "metadata": {},
   "outputs": [
    {
     "name": "stdout",
     "output_type": "stream",
     "text": [
      "precision:  0.917797494781  recall:  0.881012024048  f1:  0.899028629857\n"
     ]
    }
   ],
   "source": [
    "# precision and recall\n",
    "NN_p_score = precision_score(y_test,y_pred)\n",
    "NN_r_score = recall_score(y_test,y_pred)\n",
    "NN_f1_score = 2*(NN_p_score*NN_r_score)/(NN_p_score+NN_r_score)\n",
    "print(\"precision: \",NN_p_score,\" recall: \",NN_r_score,\" f1: \",NN_f1_score)"
   ]
  },
  {
   "cell_type": "code",
   "execution_count": 13,
   "metadata": {},
   "outputs": [
    {
     "name": "stdout",
     "output_type": "stream",
     "text": [
      "[ 0.          0.07861635  1.        ] [ 0.          0.88101202  1.        ] [2 1 0]\n"
     ]
    }
   ],
   "source": [
    "# ROC\n",
    "NN_fpr,NN_tpr, NN_thresholds = roc_curve(y_test,y_pred)\n",
    "print(NN_fpr,NN_tpr, NN_thresholds)"
   ]
  },
  {
   "cell_type": "markdown",
   "metadata": {},
   "source": [
    "## Logistic Regression"
   ]
  },
  {
   "cell_type": "code",
   "execution_count": 4,
   "metadata": {
    "collapsed": true
   },
   "outputs": [],
   "source": [
    "from sklearn.linear_model import LogisticRegression"
   ]
  },
  {
   "cell_type": "code",
   "execution_count": 5,
   "metadata": {},
   "outputs": [
    {
     "name": "stdout",
     "output_type": "stream",
     "text": [
      "training time: 25.659657955169678 s\n"
     ]
    }
   ],
   "source": [
    "tic = time.time()\n",
    "clf = LogisticRegression()\n",
    "clf.fit(X_train,y_train)\n",
    "tac = time.time()\n",
    "print('training time:',tac-tic,'s')"
   ]
  },
  {
   "cell_type": "code",
   "execution_count": 8,
   "metadata": {},
   "outputs": [
    {
     "data": {
      "text/plain": [
       "['final_model/logistic.pkl']"
      ]
     },
     "execution_count": 8,
     "metadata": {},
     "output_type": "execute_result"
    }
   ],
   "source": [
    "joblib.dump(clf,'final_model/logistic.pkl')"
   ]
  },
  {
   "cell_type": "code",
   "execution_count": 7,
   "metadata": {},
   "outputs": [
    {
     "name": "stdout",
     "output_type": "stream",
     "text": [
      "training accuracy: 91.9943991424 %\n",
      "testing accuracy: 90.443566535 %\n"
     ]
    }
   ],
   "source": [
    "# accurarcy\n",
    "y_pred = clf.predict(X_train)\n",
    "LG_train_ac = accuracy_score(y_train,y_pred)\n",
    "y_pred = clf.predict(X_test)\n",
    "LG_test_ac = accuracy_score(y_test,y_pred)\n",
    "print('training accuracy:',LG_train_ac*100,'%')\n",
    "print('testing accuracy:',LG_test_ac*100,'%')"
   ]
  },
  {
   "cell_type": "code",
   "execution_count": 9,
   "metadata": {},
   "outputs": [
    {
     "name": "stdout",
     "output_type": "stream",
     "text": [
      "precision:  0.903470173509  recall:  0.905235470942  f1:  0.90435196076\n"
     ]
    }
   ],
   "source": [
    "# precision and recall\n",
    "LG_p_score = precision_score(y_test,y_pred)\n",
    "LG_r_score = recall_score(y_test,y_pred)\n",
    "LG_f1_score = 2*(LG_p_score*LG_r_score)/(LG_p_score+LG_r_score)\n",
    "print(\"precision: \",LG_p_score,\" recall: \",LG_r_score,\" f1: \",LG_f1_score)"
   ]
  },
  {
   "cell_type": "code",
   "execution_count": 10,
   "metadata": {},
   "outputs": [
    {
     "name": "stdout",
     "output_type": "stream",
     "text": [
      "[ 0.          0.09636119  1.        ] [ 0.          0.90523547  1.        ] [2 1 0]\n"
     ]
    }
   ],
   "source": [
    "# ROC\n",
    "LG_fpr,LG_tpr, LG_thresholds = roc_curve(y_test,y_pred)\n",
    "print(LG_fpr,LG_tpr, LG_thresholds)"
   ]
  },
  {
   "cell_type": "markdown",
   "metadata": {},
   "source": [
    "## Ensemble model"
   ]
  },
  {
   "cell_type": "markdown",
   "metadata": {},
   "source": [
    "## RandomForest"
   ]
  },
  {
   "cell_type": "code",
   "execution_count": 16,
   "metadata": {
    "collapsed": true
   },
   "outputs": [],
   "source": [
    "from sklearn.ensemble import RandomForestClassifier"
   ]
  },
  {
   "cell_type": "code",
   "execution_count": 17,
   "metadata": {},
   "outputs": [
    {
     "name": "stdout",
     "output_type": "stream",
     "text": [
      "training time: 271.4661648273468 s\n"
     ]
    }
   ],
   "source": [
    "tic = time.time()\n",
    "clf = RandomForestClassifier(n_jobs=-1)\n",
    "clf.fit(X_train,y_train)\n",
    "tac = time.time()\n",
    "print('training time:',tac-tic,'s')"
   ]
  },
  {
   "cell_type": "code",
   "execution_count": 19,
   "metadata": {},
   "outputs": [
    {
     "data": {
      "text/plain": [
       "['final_model/random_forest.pkl']"
      ]
     },
     "execution_count": 19,
     "metadata": {},
     "output_type": "execute_result"
    }
   ],
   "source": [
    "joblib.dump(clf,'final_model/random_forest.pkl')"
   ]
  },
  {
   "cell_type": "code",
   "execution_count": 24,
   "metadata": {},
   "outputs": [
    {
     "name": "stdout",
     "output_type": "stream",
     "text": [
      "training accuracy: 99.4077218074 %\n",
      "testing accuracy: 78.468020203 %\n"
     ]
    }
   ],
   "source": [
    "# accurarcy\n",
    "y_pred = clf.predict(X_train)\n",
    "RF_train_ac = accuracy_score(y_train,y_pred)\n",
    "y_pred = clf.predict(X_test)\n",
    "RF_test_ac = accuracy_score(y_test,y_pred)\n",
    "print('training accuracy:',RF_train_ac*100,'%')\n",
    "print('testing accuracy:',RF_test_ac*100,'%')"
   ]
  },
  {
   "cell_type": "code",
   "execution_count": 21,
   "metadata": {},
   "outputs": [
    {
     "name": "stdout",
     "output_type": "stream",
     "text": [
      "precision:  0.831082066692  recall:  0.713602204409  f1:  0.767874711916\n"
     ]
    }
   ],
   "source": [
    "# precision and recall\n",
    "RF_p_score = precision_score(y_test,y_pred)\n",
    "RF_r_score = recall_score(y_test,y_pred)\n",
    "RF_f1_score = 2*(RF_p_score*RF_r_score)/(RF_p_score+RF_r_score)\n",
    "print(\"precision: \",RF_p_score,\" recall: \",RF_r_score,\" f1: \",RF_f1_score)"
   ]
  },
  {
   "cell_type": "code",
   "execution_count": 22,
   "metadata": {},
   "outputs": [
    {
     "name": "stdout",
     "output_type": "stream",
     "text": [
      "[ 0.          0.14450434  1.        ] [ 0.         0.7136022  1.       ] [2 1 0]\n"
     ]
    }
   ],
   "source": [
    "# ROC\n",
    "RF_fpr,RF_tpr, RF_thresholds = roc_curve(y_test,y_pred)\n",
    "print(RF_fpr,RF_tpr, RF_thresholds)"
   ]
  },
  {
   "cell_type": "markdown",
   "metadata": {},
   "source": [
    "## logistic+randomforest+NN"
   ]
  },
  {
   "cell_type": "code",
   "execution_count": 3,
   "metadata": {
    "collapsed": true
   },
   "outputs": [],
   "source": [
    "from sklearn.ensemble import VotingClassifier\n",
    "from sklearn.linear_model import LogisticRegression\n",
    "from sklearn.ensemble import RandomForestClassifier\n",
    "from sklearn.neural_network import MLPClassifier\n",
    "import time"
   ]
  },
  {
   "cell_type": "code",
   "execution_count": 20,
   "metadata": {},
   "outputs": [
    {
     "name": "stdout",
     "output_type": "stream",
     "text": [
      "training time: 1486.9226295948029 s\n"
     ]
    }
   ],
   "source": [
    "tic = time.time()\n",
    "clf1 = RandomForestClassifier(n_jobs=-1)\n",
    "clf2 = LogisticRegression(n_jobs=-1,random_state=42)\n",
    "clf3 = MLPClassifier(hidden_layer_sizes = (10,10),activation='logistic',max_iter=100,\n",
    "                    learning_rate_init = 0.01,learning_rate='invscaling',\n",
    "                    solver='adam',early_stopping=True,random_state=42)\n",
    "\n",
    "eclf1 = VotingClassifier(estimators=[\n",
    "        ('rf', clf1), ('lg', clf2),('nn',clf3)],n_jobs=-1,voting='soft')\n",
    "eclf1.fit(X_train,y_train)\n",
    "tac = time.time()\n",
    "print('training time:',tac-tic,'s')"
   ]
  },
  {
   "cell_type": "code",
   "execution_count": 21,
   "metadata": {},
   "outputs": [
    {
     "data": {
      "text/plain": [
       "['final_model/ensemble.pkl']"
      ]
     },
     "execution_count": 21,
     "metadata": {},
     "output_type": "execute_result"
    }
   ],
   "source": [
    "joblib.dump(eclf1,'final_model/ensemble.pkl')"
   ]
  },
  {
   "cell_type": "code",
   "execution_count": 22,
   "metadata": {},
   "outputs": [
    {
     "name": "stdout",
     "output_type": "stream",
     "text": [
      "training accuracy: 95.8246731531 %\n",
      "testing accuracy: 90.4348152223 %\n"
     ]
    }
   ],
   "source": [
    "# accurarcy\n",
    "y_pred = eclf1.predict(X_train)\n",
    "ES_train_ac = accuracy_score(y_train,y_pred)\n",
    "y_pred = eclf1.predict(X_test)\n",
    "ES_test_ac = accuracy_score(y_test,y_pred)\n",
    "print('training accuracy:',RF_train_ac*100,'%')\n",
    "print('testing accuracy:',RF_test_ac*100,'%')"
   ]
  },
  {
   "cell_type": "code",
   "execution_count": null,
   "metadata": {
    "collapsed": true
   },
   "outputs": [],
   "source": [
    "# precision and recall\n",
    "RF_p_score = precision_score(y_test,y_pred)\n",
    "RF_r_score = recall_score(y_test,y_pred)\n",
    "RF_f1_score = 2*(RF_p_score*RF_r_score)/(RF_p_score+RF_r_score)\n",
    "print(\"precision: \",RF_p_score,\" recall: \",RF_r_score,\" f1: \",RF_f1_score)"
   ]
  },
  {
   "cell_type": "code",
   "execution_count": null,
   "metadata": {
    "collapsed": true
   },
   "outputs": [],
   "source": []
  },
  {
   "cell_type": "markdown",
   "metadata": {},
   "source": [
    "## ROC curve"
   ]
  },
  {
   "cell_type": "code",
   "execution_count": 3,
   "metadata": {
    "collapsed": true
   },
   "outputs": [],
   "source": [
    "import matplotlib.pyplot as plt"
   ]
  },
  {
   "cell_type": "code",
   "execution_count": 48,
   "metadata": {
    "collapsed": true
   },
   "outputs": [],
   "source": [
    "DT_clf = joblib.load('final_model/decision_tree.pkl')\n",
    "NN_clf = joblib.load('final_model/nn_model.pkl')\n",
    "LG_clf = joblib.load('final_model/logistic.pkl')\n",
    "RF_clf = joblib.load('final_model/random_forest.pkl')\n",
    "ES_clf = joblib.load('final_model/ensemble.pkl')"
   ]
  },
  {
   "cell_type": "code",
   "execution_count": 56,
   "metadata": {},
   "outputs": [
    {
     "name": "stdout",
     "output_type": "stream",
     "text": [
      "[78.013854122090649, 96.510333860293201, 96.469514475691938, 86.421485309893029, 96.265507329923921]\n"
     ]
    }
   ],
   "source": [
    "print([DT_roc_auc*100,LG_roc_auc*100,NN_roc_auc*100,RF_roc_auc*100,ES_roc_auc*100])"
   ]
  },
  {
   "cell_type": "code",
   "execution_count": 5,
   "metadata": {},
   "outputs": [
    {
     "data": {
      "image/png": "[encoded data removed]",
      "text/plain": [
       "<Figure size 432x288 with 1 Axes>"
      ]
     },
     "metadata": {},
     "output_type": "display_data"
    }
   ],
   "source": [
    "#calculate the fpr and tpr for all thresholds of the classification\n",
    "#decision tree\n",
    "DT_probs = DT_clf.predict_proba(X_test)\n",
    "DT_preds = DT_probs[:,1]\n",
    "DT_fpr, DT_tpr, DT_threshold = metrics.roc_curve(y_test,DT_preds)\n",
    "DT_roc_auc = metrics.auc(DT_fpr, DT_tpr)\n",
    "\n",
    "LG_probs = LG_clf.predict_proba(X_test)\n",
    "LG_preds = LG_probs[:,1]\n",
    "LG_fpr, LG_tpr, LG_threshold = metrics.roc_curve(y_test,LG_preds)\n",
    "LG_roc_auc = metrics.auc(LG_fpr, LG_tpr)\n",
    "\n",
    "NN_probs = NN_clf.predict_proba(X_test)\n",
    "NN_preds = NN_probs[:,1]\n",
    "NN_fpr, NN_tpr, NN_threshold = metrics.roc_curve(y_test,NN_preds)\n",
    "NN_roc_auc = metrics.auc(NN_fpr, NN_tpr)\n",
    "\n",
    "RF_probs = RF_clf.predict_proba(X_test)\n",
    "RF_preds = RF_probs[:,1]\n",
    "RF_fpr, RF_tpr, RF_threshold = metrics.roc_curve(y_test,RF_preds)\n",
    "RF_roc_auc = metrics.auc(RF_fpr, RF_tpr)\n",
    "\n",
    "ES_probs = ES_clf.predict_proba(X_test)\n",
    "ES_preds = ES_probs[:,1]\n",
    "ES_fpr, ES_tpr, ES_threshold = metrics.roc_curve(y_test,ES_preds)\n",
    "ES_roc_auc = metrics.auc(ES_fpr, ES_tpr)\n",
    "\n",
    "# plot\n",
    "plt.title('Receiver Operating Characteristic')\n",
    "plt.plot(DT_fpr, DT_tpr, 'b', label = 'Decision_Tree_AUC = %0.2f' % DT_roc_auc)\n",
    "plt.plot(LG_fpr, LG_tpr, 'm', label = 'Logistic_Regression_AUC = %0.2f' % LG_roc_auc)\n",
    "plt.plot(NN_fpr, NN_tpr, 'g', label = 'Neural_net(10*10)_AUC = %0.2f' % NN_roc_auc)\n",
    "plt.plot(RF_fpr, RF_tpr, 'c', label = 'Random_Forest_AUC = %0.2f' % RF_roc_auc)\n",
    "plt.plot(ES_fpr, ES_tpr, 'y', label = 'Ensemble(logitistic+NN+Random_forest)_AUC = %0.2f' % ES_roc_auc)\n",
    "\n",
    "plt.legend(loc = 'lower right')\n",
    "plt.plot([0, 1], [0, 1],'r--')\n",
    "plt.xlim([0, 1])\n",
    "plt.ylim([0, 1])\n",
    "plt.ylabel('True Positive Rate (tpr)')\n",
    "plt.xlabel('False Positive Rate (fpr)')\n",
    "plt.show()"
   ]
  },
  {
   "cell_type": "markdown",
   "metadata": {
    "collapsed": true
   },
   "source": [
    "## Evaluate model"
   ]
  },
  {
   "cell_type": "code",
   "execution_count": 58,
   "metadata": {},
   "outputs": [
    {
     "name": "stdout",
     "output_type": "stream",
     "text": [
      "[93.417742091757802, 91.994399142368678, 93.156139533866124, 99.407721807401757, 95.82467315307656]\n"
     ]
    }
   ],
   "source": [
    "y_pred = DT_clf.predict(X_train)\n",
    "DT_train_ac = accuracy_score(y_train,y_pred)*100\n",
    "y_pred = NN_clf.predict(X_train)\n",
    "NN_train_ac = accuracy_score(y_train,y_pred)*100\n",
    "y_pred = LG_clf.predict(X_train)\n",
    "LG_train_ac = accuracy_score(y_train,y_pred)*100\n",
    "y_pred = RF_clf.predict(X_train)\n",
    "RF_train_ac = accuracy_score(y_train,y_pred)*100\n",
    "y_pred = ES_clf.predict(X_train)\n",
    "ES_train_ac = accuracy_score(y_train,y_pred)*100\n",
    "Training_ac = [DT_train_ac,LG_train_ac,NN_train_ac,RF_train_ac,ES_train_ac]\n",
    "print(Training_ac)"
   ]
  },
  {
   "cell_type": "code",
   "execution_count": 59,
   "metadata": {},
   "outputs": [
    {
     "name": "stdout",
     "output_type": "stream",
     "text": [
      "[76.157673651047659, 90.443566534980249, 90.123518527779169, 78.468020203030449, 90.434815222283333]\n",
      "[75.651467801865209, 90.347017350867546, 91.779749478079324, 83.108206669195084, 91.320716060132654]\n",
      "[77.014028056112224, 90.523547094188373, 88.101202404809627, 71.360220440881761, 89.323647294589179]\n",
      "[76.32666741146241, 90.435196075977871, 89.902862985685061, 76.787471191557614, 90.311142629199537]\n"
     ]
    }
   ],
   "source": [
    "y_pred = DT_clf.predict(X_test)\n",
    "DT_test_ac = accuracy_score(y_test,y_pred)*100\n",
    "DT_p_score = precision_score(y_test,y_pred)*100\n",
    "DT_r_score = recall_score(y_test,y_pred)*100\n",
    "DT_f1_score = 2*(DT_p_score*DT_r_score)/(DT_p_score+DT_r_score)\n",
    "\n",
    "y_pred = LG_clf.predict(X_test)\n",
    "LG_test_ac = accuracy_score(y_test,y_pred)*100\n",
    "LG_p_score = precision_score(y_test,y_pred)*100\n",
    "LG_r_score = recall_score(y_test,y_pred)*100\n",
    "LG_f1_score = 2*(LG_p_score*LG_r_score)/(LG_p_score+LG_r_score)\n",
    "\n",
    "y_pred = NN_clf.predict(X_test)\n",
    "NN_test_ac = accuracy_score(y_test,y_pred)*100\n",
    "NN_p_score = precision_score(y_test,y_pred)*100\n",
    "NN_r_score = recall_score(y_test,y_pred)*100\n",
    "NN_f1_score = 2*(NN_p_score*NN_r_score)/(NN_p_score+NN_r_score)\n",
    "\n",
    "y_pred = RF_clf.predict(X_test)\n",
    "RF_test_ac = accuracy_score(y_test,y_pred)*100\n",
    "RF_test_ac = accuracy_score(y_test,y_pred)*100\n",
    "RF_p_score = precision_score(y_test,y_pred)*100\n",
    "RF_r_score = recall_score(y_test,y_pred)*100\n",
    "RF_f1_score = 2*(RF_p_score*RF_r_score)/(RF_p_score+RF_r_score)\n",
    "\n",
    "y_pred = ES_clf.predict(X_test)\n",
    "ES_test_ac = accuracy_score(y_test,y_pred)*100\n",
    "ES_test_ac = accuracy_score(y_test,y_pred)*100\n",
    "ES_p_score = precision_score(y_test,y_pred)*100\n",
    "ES_r_score = recall_score(y_test,y_pred)*100\n",
    "ES_f1_score = 2*(ES_p_score*ES_r_score)/(ES_p_score+ES_r_score)\n",
    "\n",
    "Testing_ac = [DT_test_ac,LG_test_ac,NN_test_ac,RF_test_ac,ES_test_ac]\n",
    "print(Testing_ac)\n",
    "p_score = [DT_p_score,LG_p_score,NN_p_score,RF_p_score,ES_p_score]\n",
    "print(p_score)\n",
    "r_score = [DT_r_score,LG_r_score,NN_r_score,RF_r_score,ES_r_score]\n",
    "print(r_score)\n",
    "f1_score = [DT_f1_score,LG_f1_score,NN_f1_score,RF_f1_score,ES_f1_score]\n",
    "print(f1_score)"
   ]
  },
  {
   "cell_type": "markdown",
   "metadata": {},
   "source": [
    "## Feature importance"
   ]
  },
  {
   "cell_type": "code",
   "execution_count": 29,
   "metadata": {},
   "outputs": [],
   "source": [
    "values = sorted(zip(feature_tfidf_name, RF_clf.feature_importances_), key=lambda x: x[1] * -1)\n",
    "feature_imp = {}\n",
    "for i in zip(feature_tfidf_name, RF_clf.feature_importances_*100):\n",
    "    feature_imp[i[0]] = i[1]"
   ]
  },
  {
   "cell_type": "code",
   "execution_count": 62,
   "metadata": {},
   "outputs": [
    {
     "name": "stdout",
     "output_type": "stream",
     "text": [
      "[('not', 0.020812454729523897), ('great', 0.011469824135427315), ('waste', 0.0074298190663252368), ('and', 0.0054899028737268717), ('best', 0.0054132389636220033), ('money', 0.0048467353136542393), ('bad', 0.0043647785224612346), ('was', 0.0043067911473494373), ('good', 0.0042278323380913405), ('the', 0.0042183249253557424), ('love', 0.0042044315897036928), ('boring', 0.0041962503533852858), ('but', 0.0039754334912661263), ('easy', 0.0038757622973307356), ('it', 0.0037445684814688693), ('excellent', 0.0037414389727968927), ('for', 0.0036714666000187044), ('this', 0.0036158761734949572), ('is', 0.0036148620332547864), ('don', 0.003538723803220927), ('worst', 0.0035265968563098112), ('of', 0.003506178050248894), ('to', 0.0034763272718490042), ('perfect', 0.003454931381316334), ('poor', 0.0033924146584344158), ('my', 0.0033677523732797672), ('no', 0.003322701223017221), ('disappointed', 0.0031840367702931595), ('you', 0.0031353170782277159), ('disappointing', 0.0030334692688426608), ('highly', 0.0030215287832989048), ('do', 0.0030095305925312574), ('horrible', 0.0029908909655939147), ('in', 0.002990604973833441), ('well', 0.0029452258903113564), ('amazing', 0.0028173453248039326), ('awesome', 0.0027982857417187465), ('that', 0.0027726317085035846), ('on', 0.0026778703790062849), ('if', 0.0026457304878938818), ('didn', 0.0025656945427268182), ('with', 0.002505161413830931), ('be', 0.0024655732861665149), ('have', 0.0024510863521910809), ('awful', 0.002451049031773261), ('only', 0.0022683634569497417), ('or', 0.002212458940087831), ('beautiful', 0.0021824545398920984), ('would', 0.0021417861647770762), ('as', 0.0021207048048827548)]\n"
     ]
    }
   ],
   "source": [
    "print(values[:50])"
   ]
  },
  {
   "cell_type": "code",
   "execution_count": 64,
   "metadata": {
    "collapsed": true
   },
   "outputs": [],
   "source": [
    "top_50_imp_words = []\n",
    "top_50_imp_rate = []\n",
    "for i in values[:50]:\n",
    "    top_50_imp_words.append(i[0])\n",
    "    top_50_imp_rate.append(i[1]*100)"
   ]
  },
  {
   "cell_type": "code",
   "execution_count": 65,
   "metadata": {
    "scrolled": true
   },
   "outputs": [
    {
     "name": "stdout",
     "output_type": "stream",
     "text": [
      "['not', 'great', 'waste', 'and', 'best', 'money', 'bad', 'was', 'good', 'the', 'love', 'boring', 'but', 'easy', 'it', 'excellent', 'for', 'this', 'is', 'don', 'worst', 'of', 'to', 'perfect', 'poor', 'my', 'no', 'disappointed', 'you', 'disappointing', 'highly', 'do', 'horrible', 'in', 'well', 'amazing', 'awesome', 'that', 'on', 'if', 'didn', 'with', 'be', 'have', 'awful', 'only', 'or', 'beautiful', 'would', 'as']\n",
      "[2.0812454729523897, 1.1469824135427316, 0.74298190663252373, 0.54899028737268718, 0.54132389636220035, 0.4846735313654239, 0.43647785224612345, 0.43067911473494375, 0.42278323380913407, 0.42183249253557425, 0.42044315897036927, 0.41962503533852857, 0.39754334912661266, 0.38757622973307354, 0.37445684814688696, 0.37414389727968927, 0.36714666000187046, 0.36158761734949574, 0.36148620332547865, 0.35387238032209267, 0.3526596856309811, 0.35061780502488937, 0.3476327271849004, 0.3454931381316334, 0.33924146584344156, 0.33677523732797671, 0.33227012230172209, 0.31840367702931593, 0.31353170782277157, 0.30334692688426607, 0.30215287832989046, 0.30095305925312577, 0.29908909655939148, 0.29906049738334411, 0.29452258903113565, 0.28173453248039326, 0.27982857417187468, 0.27726317085035845, 0.26778703790062847, 0.2645730487893882, 0.2565694542726818, 0.25051614138309308, 0.2465573286166515, 0.24510863521910808, 0.24510490317732608, 0.22683634569497418, 0.22124589400878308, 0.21824545398920983, 0.21417861647770761, 0.21207048048827548]\n"
     ]
    }
   ],
   "source": [
    "print(top_50_imp_words)\n",
    "print(top_50_imp_rate)"
   ]
  },
  {
   "cell_type": "code",
   "execution_count": 67,
   "metadata": {},
   "outputs": [
    {
     "data": {
      "text/plain": [
       "['top_50_imp_words.pkl']"
      ]
     },
     "execution_count": 67,
     "metadata": {},
     "output_type": "execute_result"
    }
   ],
   "source": [
    "joblib.dump(top_50_imp_words,'top_50_imp_words.pkl')"
   ]
  },
  {
   "cell_type": "code",
   "execution_count": 45,
   "metadata": {
    "collapsed": true
   },
   "outputs": [],
   "source": [
    "top_50_words = joblib.load('top_50_words.pkl')"
   ]
  },
  {
   "cell_type": "code",
   "execution_count": 38,
   "metadata": {
    "collapsed": true
   },
   "outputs": [],
   "source": [
    "feature_imp[''] = 0"
   ]
  },
  {
   "cell_type": "code",
   "execution_count": 46,
   "metadata": {},
   "outputs": [],
   "source": [
    "importances = []\n",
    "for i in top_50_words:\n",
    "    importances.append(feature_imp[i])"
   ]
  },
  {
   "cell_type": "code",
   "execution_count": 47,
   "metadata": {},
   "outputs": [
    {
     "name": "stdout",
     "output_type": "stream",
     "text": [
      "[0.42183249253557425, 0.54899028737268718, 0.3476327271849004, 0.35061780502488937, 0.37445684814688696, 0.36158761734949574, 0.36148620332547865, 0.29906049738334411, 0.36714666000187046, 0.27726317085035845, 0.43067911473494375, 2.0812454729523897, 0.31353170782277157, 0.25051614138309308, 0.39754334912661266, 0.26778703790062847, 0.1976717872098287, 0.24510863521910808, 0.33677523732797671, 0.21207048048827548, 0.20095098497128552, 0.19798552855707593, 0.2465573286166515, 0.18356616475032722, 0.19444382252304371, 1.1469824135427316, 0.20259314360393488, 0.2645730487893882, 0.19962085628122597, 0.42278323380913407, 0.18087395050641653, 0.089112252863010055, 0.17404022444932099, 0.15965502092489214, 0.19234199004250196, 0.22124589400878308, 0.21417861647770761, 0.15807764204268424, 0.15458651448981373, 0.16900819877380632, 0.16677455431975585, 0.14429317084921181, 0.20813822697484033, 0.15471591427347614, 0.17173657558539837, 0.14459037202458996, 0.14473195127703872, 0.1858511370401377, 0.17042478769578531, 0.12313512079524856]\n"
     ]
    }
   ],
   "source": [
    "print(importances)"
   ]
  },
  {
   "cell_type": "code",
   "execution_count": null,
   "metadata": {
    "collapsed": true
   },
   "outputs": [],
   "source": []
  }
 ],
 "metadata": {
  "kernelspec": {
   "display_name": "Python3.5",
   "language": "python",
   "name": "py35"
  },
  "language_info": {
   "codemirror_mode": {
    "name": "ipython",
    "version": 3
   },
   "file_extension": ".py",
   "mimetype": "text/x-python",
   "name": "python",
   "nbconvert_exporter": "python",
   "pygments_lexer": "ipython3",
   "version": "3.5.5"
  }
 },
 "nbformat": 4,
 "nbformat_minor": 2
}
